{
  "nbformat": 4,
  "nbformat_minor": 0,
  "metadata": {
    "colab": {
      "provenance": [],
      "include_colab_link": true
    },
    "kernelspec": {
      "name": "python3",
      "display_name": "Python 3"
    },
    "language_info": {
      "name": "python"
    },
    "accelerator": "GPU",
    "widgets": {
      "application/vnd.jupyter.widget-state+json": {
        "6f1d29d05b0d4de4a7d59f0f35c6f458": {
          "model_module": "@jupyter-widgets/controls",
          "model_name": "TextModel",
          "model_module_version": "1.5.0",
          "state": {
            "_dom_classes": [],
            "_model_module": "@jupyter-widgets/controls",
            "_model_module_version": "1.5.0",
            "_model_name": "TextModel",
            "_view_count": null,
            "_view_module": "@jupyter-widgets/controls",
            "_view_module_version": "1.5.0",
            "_view_name": "TextView",
            "continuous_update": true,
            "description": "",
            "description_tooltip": null,
            "disabled": false,
            "layout": "IPY_MODEL_8d8eff79b3f94210a5ceba776bb44365",
            "placeholder": "​",
            "style": "IPY_MODEL_240a79080b564ac0bdfb9f378257103a",
            "value": "A:330"
          }
        },
        "8d8eff79b3f94210a5ceba776bb44365": {
          "model_module": "@jupyter-widgets/base",
          "model_name": "LayoutModel",
          "model_module_version": "1.2.0",
          "state": {
            "_model_module": "@jupyter-widgets/base",
            "_model_module_version": "1.2.0",
            "_model_name": "LayoutModel",
            "_view_count": null,
            "_view_module": "@jupyter-widgets/base",
            "_view_module_version": "1.2.0",
            "_view_name": "LayoutView",
            "align_content": null,
            "align_items": null,
            "align_self": null,
            "border": null,
            "bottom": null,
            "display": null,
            "flex": null,
            "flex_flow": null,
            "grid_area": null,
            "grid_auto_columns": null,
            "grid_auto_flow": null,
            "grid_auto_rows": null,
            "grid_column": null,
            "grid_gap": null,
            "grid_row": null,
            "grid_template_areas": null,
            "grid_template_columns": null,
            "grid_template_rows": null,
            "height": null,
            "justify_content": null,
            "justify_items": null,
            "left": null,
            "margin": null,
            "max_height": null,
            "max_width": null,
            "min_height": null,
            "min_width": null,
            "object_fit": null,
            "object_position": null,
            "order": null,
            "overflow": null,
            "overflow_x": null,
            "overflow_y": null,
            "padding": null,
            "right": null,
            "top": null,
            "visibility": null,
            "width": null
          }
        },
        "240a79080b564ac0bdfb9f378257103a": {
          "model_module": "@jupyter-widgets/controls",
          "model_name": "DescriptionStyleModel",
          "model_module_version": "1.5.0",
          "state": {
            "_model_module": "@jupyter-widgets/controls",
            "_model_module_version": "1.5.0",
            "_model_name": "DescriptionStyleModel",
            "_view_count": null,
            "_view_module": "@jupyter-widgets/base",
            "_view_module_version": "1.2.0",
            "_view_name": "StyleView",
            "description_width": ""
          }
        }
      }
    }
  },
  "cells": [
    {
      "cell_type": "markdown",
      "metadata": {
        "id": "view-in-github",
        "colab_type": "text"
      },
      "source": [
        "<a href=\"https://colab.research.google.com/github/shaurya244/DiffSBDD/blob/main/colab/DiffSBDD.ipynb\" target=\"_parent\"><img src=\"https://colab.research.google.com/assets/colab-badge.svg\" alt=\"Open In Colab\"/></a>"
      ]
    },
    {
      "cell_type": "markdown",
      "source": [
        "# DiffSBDD: Structure-based Drug Design with Equivariant Diffusion Models\n",
        "\n",
        "[**[Paper]**](https://arxiv.org/abs/2210.13695)\n",
        "[**[Code]**](https://github.com/arneschneuing/DiffSBDD)\n",
        "\n",
        "Make sure to select `Runtime` -> `Change runtime type` -> `GPU` before you run the script.\n",
        "\n",
        "<img src=\"https://raw.githubusercontent.com/arneschneuing/DiffSBDD/main/img/overview.png\" height=250>"
      ],
      "metadata": {
        "id": "m12HrhIsNKkS"
      }
    },
    {
      "cell_type": "code",
      "source": [
        "!pip install protobuf==3.20.*"
      ],
      "metadata": {
        "id": "O9qPTYMramJ5",
        "outputId": "b1b90be7-def5-4c28-be9e-a2bebe960980",
        "colab": {
          "base_uri": "https://localhost:8080/",
          "height": 375
        }
      },
      "execution_count": 1,
      "outputs": [
        {
          "output_type": "stream",
          "name": "stdout",
          "text": [
            "Collecting protobuf==3.20.*\n",
            "  Downloading protobuf-3.20.3-py2.py3-none-any.whl.metadata (720 bytes)\n",
            "Downloading protobuf-3.20.3-py2.py3-none-any.whl (162 kB)\n",
            "\u001b[?25l   \u001b[90m━━━━━━━━━━━━━━━━━━━━━━━━━━━━━━━━━━━━━━━━\u001b[0m \u001b[32m0.0/162.1 kB\u001b[0m \u001b[31m?\u001b[0m eta \u001b[36m-:--:--\u001b[0m\r\u001b[2K   \u001b[91m━━━━━━━━━━━━━━━━━━━━━━━━━━━━━━━━━━━━━\u001b[0m\u001b[91m╸\u001b[0m\u001b[90m━━\u001b[0m \u001b[32m153.6/162.1 kB\u001b[0m \u001b[31m5.4 MB/s\u001b[0m eta \u001b[36m0:00:01\u001b[0m\r\u001b[2K   \u001b[90m━━━━━━━━━━━━━━━━━━━━━━━━━━━━━━━━━━━━━━━━\u001b[0m \u001b[32m162.1/162.1 kB\u001b[0m \u001b[31m4.0 MB/s\u001b[0m eta \u001b[36m0:00:00\u001b[0m\n",
            "\u001b[?25hInstalling collected packages: protobuf\n",
            "  Attempting uninstall: protobuf\n",
            "    Found existing installation: protobuf 5.29.5\n",
            "    Uninstalling protobuf-5.29.5:\n",
            "      Successfully uninstalled protobuf-5.29.5\n",
            "\u001b[31mERROR: pip's dependency resolver does not currently take into account all the packages that are installed. This behaviour is the source of the following dependency conflicts.\n",
            "tensorflow-metadata 1.17.1 requires protobuf<6.0.0,>=4.25.2; python_version >= \"3.11\", but you have protobuf 3.20.3 which is incompatible.\n",
            "ydf 0.12.0 requires protobuf<6.0.0,>=5.29.1, but you have protobuf 3.20.3 which is incompatible.\n",
            "grpcio-status 1.71.0 requires protobuf<6.0dev,>=5.26.1, but you have protobuf 3.20.3 which is incompatible.\u001b[0m\u001b[31m\n",
            "\u001b[0mSuccessfully installed protobuf-3.20.3\n"
          ]
        },
        {
          "output_type": "display_data",
          "data": {
            "application/vnd.colab-display-data+json": {
              "pip_warning": {
                "packages": [
                  "google"
                ]
              },
              "id": "254061ce57bc43468914e544a0e19f1e"
            }
          },
          "metadata": {}
        }
      ]
    },
    {
      "cell_type": "code",
      "source": [
        "#@title  Install condacolab (the kernel will be restarted, after that you can execute the remaining cells)\n",
        "!pip install -q condacolab\n",
        "import condacolab\n",
        "condacolab.install()"
      ],
      "metadata": {
        "id": "iAiLo8O8klSG",
        "outputId": "f1060f35-41f9-4b74-ff8c-2b8bf3571d96",
        "colab": {
          "base_uri": "https://localhost:8080/"
        }
      },
      "execution_count": 2,
      "outputs": [
        {
          "output_type": "stream",
          "name": "stdout",
          "text": [
            "⏬ Downloading https://github.com/jaimergp/miniforge/releases/download/24.11.2-1_colab/Miniforge3-colab-24.11.2-1_colab-Linux-x86_64.sh...\n",
            "📦 Installing...\n",
            "📌 Adjusting configuration...\n",
            "🩹 Patching environment...\n",
            "⏲ Done in 0:00:11\n",
            "🔁 Restarting kernel...\n"
          ]
        }
      ]
    },
    {
      "cell_type": "code",
      "source": [
        "#@title Install dependencies (this will take about 5-10 minutes)\n",
        "%cd /content\n",
        "\n",
        "import os\n",
        "\n",
        "commands = [\n",
        "    \"pip install torch==2.0.1+cu118 torchvision==0.15.2+cu118 pytorch-lightning==2.0.9 -f https://download.pytorch.org/whl/torch_stable.html\",\n",
        "    \"pip install wandb==0.17.2\",\n",
        "    \"pip install rdkit\",\n",
        "    \"conda install -y numpy\",\n",
        "    \"pip install biopython==1.79\",\n",
        "    \"pip install imageio==2.21.2\",\n",
        "    \"pip install scipy\",\n",
        "    \"pip install pyg-lib torch-scatter -f https://data.pyg.org/whl/torch-2.0.1+cu118.html\",\n",
        "    \"pip install networkx==2.8.6\",\n",
        "    \"pip install py3Dmol==1.8.1\",\n",
        "    \"conda install openbabel -c conda-forge\",\n",
        "    \"git clone https://github.com/arneschneuing/DiffSBDD.git\",\n",
        "    \"mkdir -p /content/DiffSBDD/checkpoints\",\n",
        "    \"wget -P /content/DiffSBDD/checkpoints https://zenodo.org/record/8183747/files/moad_fullatom_cond.ckpt\",\n",
        "    \"wget -P /content/DiffSBDD/checkpoints https://zenodo.org/record/8183747/files/moad_fullatom_joint.ckpt\",\n",
        "]\n",
        "\n",
        "errors = {}\n",
        "\n",
        "if not os.path.isfile(\"/content/READY\"):\n",
        "  for cmd in commands:\n",
        "    # os.system(cmd)\n",
        "    with os.popen(cmd) as f:\n",
        "      out = f.read()\n",
        "      status = f.close()\n",
        "\n",
        "    if status is not None:\n",
        "      errors[cmd] = out\n",
        "      print(f\"\\n\\nAn error occurred while running '{cmd}'\\n\")\n",
        "      print(\"Status:\\t\", status)\n",
        "      print(\"Message:\\t\", out)\n",
        "\n",
        "if len(errors) == 0:\n",
        "  os.system(\"touch /content/READY\")"
      ],
      "metadata": {
        "id": "bZ5Q_kLdVIp7",
        "outputId": "d88b454e-4fda-4309-8dab-06e68182bbaf",
        "colab": {
          "base_uri": "https://localhost:8080/"
        }
      },
      "execution_count": 1,
      "outputs": [
        {
          "output_type": "stream",
          "name": "stdout",
          "text": [
            "/content\n"
          ]
        }
      ]
    },
    {
      "cell_type": "markdown",
      "source": [
        "## Choose target PDB"
      ],
      "metadata": {
        "id": "e46yNUYbdqZ3"
      }
    },
    {
      "cell_type": "code",
      "source": [
        "from google.colab import files\n",
        "from google.colab import output\n",
        "output.enable_custom_widget_manager()\n",
        "import os.path\n",
        "from pathlib import Path\n",
        "import urllib\n",
        "import os\n",
        "\n",
        "input_dir = Path(\"/content/input_pdbs/\")\n",
        "output_dir = Path(\"/content/output_sdfs/\")\n",
        "input_dir.mkdir(exist_ok=True)\n",
        "output_dir.mkdir(exist_ok=True)\n",
        "\n",
        "target = \"example (3rfm)\" #@param [\"example (3rfm)\", \"upload structure\"]\n",
        "\n",
        "if target == \"example (3rfm)\":\n",
        "  pdbfile = Path(input_dir, '3rfm.pdb')\n",
        "  urllib.request.urlretrieve('http://files.rcsb.org/download/3rfm.pdb', pdbfile)\n",
        "\n",
        "elif target == \"upload structure\":\n",
        "  uploaded = files.upload()\n",
        "  fn = list(uploaded.keys())[0]\n",
        "  pdbfile = Path(input_dir, fn)\n",
        "  Path(fn).rename(pdbfile)"
      ],
      "metadata": {
        "cellView": "form",
        "id": "tzkQJJeNdJMa"
      },
      "execution_count": 2,
      "outputs": []
    },
    {
      "cell_type": "markdown",
      "source": [
        "## Define binding pocket\n",
        "\n",
        "You can choose between two options to define the binding pocket:\n",
        "1. **list of residues:** provide a list where each residue is specified as `<chain_id>:<res_id>`, e.g, `A:1 A:2 A:3 A:4 A:5 A:6 A:7`\n",
        "2. **reference ligand:** if the uploaded PDB structure contains a reference ligand in the target pocket, you can specify its location as `<chain_id>:<res_id>` and the pocket will be extracted automatically"
      ],
      "metadata": {
        "id": "eif7HG0Bd2qj"
      }
    },
    {
      "cell_type": "code",
      "source": [
        "#@title { run: \"auto\" }\n",
        "import ipywidgets as widgets\n",
        "\n",
        "#@markdown **Note:** This cell is an interactive widget and the values will be updated automatically every time you change them. You do not need to execute the cell again. If you do, the default values will be reinserted.\n",
        "\n",
        "pocket_definition = \"reference ligand\" #@param [\"list of residues\", \"reference ligand\"]\n",
        "\n",
        "if pocket_definition == \"list of residues\":\n",
        "  print('pocket_residues:')\n",
        "  w = widgets.Text(value='A:9 A:59 A:60 A:62 A:63 A:64 A:66 A:67 A:80 A:81 A:84 A:85 A:88 A:167 A:168 A:169 A:170 A:172 A:174 A:177 A:181 A:246 A:249 A:250 A:252 A:253 A:256 A:265 A:267 A:270 A:271 A:273 A:274 A:275 A:277 A:278')\n",
        "  pocket_flag = \"--resi_list\"\n",
        "elif pocket_definition == \"reference ligand\":\n",
        "  print('reference_ligand:')\n",
        "  w = widgets.Text(value='A:330')\n",
        "  pocket_flag = \"--ref_ligand\"\n",
        "\n",
        "display(w)"
      ],
      "metadata": {
        "colab": {
          "base_uri": "https://localhost:8080/",
          "height": 67,
          "referenced_widgets": [
            "6f1d29d05b0d4de4a7d59f0f35c6f458",
            "8d8eff79b3f94210a5ceba776bb44365",
            "240a79080b564ac0bdfb9f378257103a"
          ]
        },
        "cellView": "form",
        "id": "E9AMhAo_VlUo",
        "outputId": "f4eb420f-d443-41eb-dafa-e0af572e15ca"
      },
      "execution_count": 3,
      "outputs": [
        {
          "output_type": "stream",
          "name": "stdout",
          "text": [
            "reference_ligand:\n"
          ]
        },
        {
          "output_type": "display_data",
          "data": {
            "text/plain": [
              "Text(value='A:330')"
            ],
            "application/vnd.jupyter.widget-view+json": {
              "version_major": 2,
              "version_minor": 0,
              "model_id": "6f1d29d05b0d4de4a7d59f0f35c6f458"
            }
          },
          "metadata": {
            "application/vnd.jupyter.widget-view+json": {
              "colab": {
                "custom_widget_manager": {
                  "url": "https://ssl.gstatic.com/colaboratory-static/widgets/colab-cdn-widget-manager/2b70e893a8ba7c0f/manager.min.js"
                }
              }
            }
          }
        }
      ]
    },
    {
      "cell_type": "markdown",
      "source": [
        "## Settings\n",
        "\n",
        "Notes:\n",
        "- `timesteps < 500` is an experimental feature\n",
        "- `resamplings` and `jump_length` only pertain to the inpainting model"
      ],
      "metadata": {
        "id": "eYgXjygkeG14"
      }
    },
    {
      "cell_type": "code",
      "source": [
        "#@markdown ## Sampling\n",
        "n_samples = 20 #@param {type:\"slider\", min:1, max:100, step:1}\n",
        "ligand_nodes = 20 #@param {type:\"integer\"}\n",
        "\n",
        "model = \"Conditional model (Binding MOAD)\" #@param [\"Conditional model (Binding MOAD)\", \"Inpainting model (Binding MOAD)\"]\n",
        "checkpoint = Path('/content', 'DiffSBDD', 'checkpoints', 'moad_fullatom_cond.ckpt') if model == \"Conditional model (Binding MOAD)\" else Path('DiffSBDD', 'checkpoints', 'moad_fullatom_joint.ckpt')\n",
        "\n",
        "timesteps = 100 #@param {type:\"slider\", min:1, max:500, step:1}\n",
        "\n",
        "#@markdown  ## Inpainting parameters\n",
        "resamplings = 1 #@param {type:\"integer\"}\n",
        "jump_length = 1 #@param {type:\"integer\"}\n",
        "\n",
        "#@markdown  ## Post-processing\n",
        "keep_all_fragments = False #@param {type:\"boolean\"}\n",
        "keep_all_fragments = \"--all_frags\" if keep_all_fragments else \"\"\n",
        "sanitize = True #@param {type:\"boolean\"}\n",
        "sanitize = \"--sanitize\" if sanitize else \"\"\n",
        "relax = True #@param {type:\"boolean\"}\n",
        "relax = \"--relax\" if relax else \"\""
      ],
      "metadata": {
        "id": "VQ6xa7EPMtyI",
        "cellView": "form"
      },
      "execution_count": 4,
      "outputs": []
    },
    {
      "cell_type": "code",
      "source": [
        "!pip install numpy"
      ],
      "metadata": {
        "id": "vGIQi1qHeCfS",
        "outputId": "e2431e64-03fc-4154-9824-556dda6cda9f",
        "colab": {
          "base_uri": "https://localhost:8080/"
        }
      },
      "execution_count": 5,
      "outputs": [
        {
          "output_type": "stream",
          "name": "stdout",
          "text": [
            "Requirement already satisfied: numpy in /usr/local/lib/python3.11/site-packages (2.3.1)\n"
          ]
        }
      ]
    },
    {
      "cell_type": "code",
      "source": [
        "#@title Run sampling (this will take a few minutes; runtime depends on the input parameters `n_samples`, `timesteps` etc.)\n",
        "%%capture\n",
        "%cd /content/DiffSBDD\n",
        "\n",
        "import argparse\n",
        "from pathlib import Path\n",
        "import torch\n",
        "import utils\n",
        "from lightning_modules import LigandPocketDDPM\n",
        "\n",
        "\n",
        "pdb_id = Path(pdbfile).stem\n",
        "pocket = w.value\n",
        "\n",
        "device = 'cuda' if torch.cuda.is_available() else 'cpu'\n",
        "\n",
        "# Load model\n",
        "model = LigandPocketDDPM.load_from_checkpoint(checkpoint, map_location=device)\n",
        "model = model.to(device)\n",
        "\n",
        "num_nodes_lig = torch.ones(n_samples, dtype=int) * ligand_nodes\n",
        "\n",
        "if pocket_flag == '--ref_ligand':\n",
        "  resi_list = None\n",
        "  ref_ligand = pocket\n",
        "else:\n",
        "  resi_list = pocket.split()\n",
        "  ref_ligand = None\n",
        "\n",
        "molecules = model.generate_ligands(\n",
        "    pdbfile, n_samples, resi_list, ref_ligand,\n",
        "    num_nodes_lig, (sanitize == '--sanitize'),\n",
        "    largest_frag=not (keep_all_fragments == \"--all_frags\"),\n",
        "    relax_iter=(200 if (relax == \"--relax\") else 0),\n",
        "    resamplings=resamplings, jump_length=jump_length,\n",
        "    timesteps=timesteps\n",
        ")\n",
        "\n",
        "# Make SDF files\n",
        "utils.write_sdf_file(Path(output_dir, f'{pdb_id}_mol.sdf'), molecules)"
      ],
      "metadata": {
        "id": "pWitBCDUoRBw",
        "outputId": "b8b78759-7c8d-45bc-c501-ed9e212eaa0c",
        "colab": {
          "base_uri": "https://localhost:8080/",
          "height": 375
        }
      },
      "execution_count": 5,
      "outputs": [
        {
          "output_type": "error",
          "ename": "RuntimeError",
          "evalue": "Numpy is not available",
          "traceback": [
            "\u001b[0;31m---------------------------------------------------------------------------\u001b[0m",
            "\u001b[0;31mRuntimeError\u001b[0m                              Traceback (most recent call last)",
            "\u001b[0;32m/tmp/ipython-input-5-1374016153.py\u001b[0m in \u001b[0;36m<cell line: 0>\u001b[0;34m()\u001b[0m\n\u001b[1;32m     14\u001b[0m \u001b[0;34m\u001b[0m\u001b[0m\n\u001b[1;32m     15\u001b[0m \u001b[0;31m# Load model\u001b[0m\u001b[0;34m\u001b[0m\u001b[0;34m\u001b[0m\u001b[0m\n\u001b[0;32m---> 16\u001b[0;31m \u001b[0mmodel\u001b[0m \u001b[0;34m=\u001b[0m \u001b[0mLigandPocketDDPM\u001b[0m\u001b[0;34m.\u001b[0m\u001b[0mload_from_checkpoint\u001b[0m\u001b[0;34m(\u001b[0m\u001b[0mcheckpoint\u001b[0m\u001b[0;34m,\u001b[0m \u001b[0mmap_location\u001b[0m\u001b[0;34m=\u001b[0m\u001b[0mdevice\u001b[0m\u001b[0;34m)\u001b[0m\u001b[0;34m\u001b[0m\u001b[0;34m\u001b[0m\u001b[0m\n\u001b[0m\u001b[1;32m     17\u001b[0m \u001b[0mmodel\u001b[0m \u001b[0;34m=\u001b[0m \u001b[0mmodel\u001b[0m\u001b[0;34m.\u001b[0m\u001b[0mto\u001b[0m\u001b[0;34m(\u001b[0m\u001b[0mdevice\u001b[0m\u001b[0;34m)\u001b[0m\u001b[0;34m\u001b[0m\u001b[0;34m\u001b[0m\u001b[0m\n\u001b[1;32m     18\u001b[0m \u001b[0;34m\u001b[0m\u001b[0m\n",
            "\u001b[0;32m/usr/local/lib/python3.11/site-packages/pytorch_lightning/core/module.py\u001b[0m in \u001b[0;36mload_from_checkpoint\u001b[0;34m(cls, checkpoint_path, map_location, hparams_file, strict, **kwargs)\u001b[0m\n\u001b[1;32m   1541\u001b[0m             \u001b[0my_hat\u001b[0m \u001b[0;34m=\u001b[0m \u001b[0mpretrained_model\u001b[0m\u001b[0;34m(\u001b[0m\u001b[0mx\u001b[0m\u001b[0;34m)\u001b[0m\u001b[0;34m\u001b[0m\u001b[0;34m\u001b[0m\u001b[0m\n\u001b[1;32m   1542\u001b[0m         \"\"\"\n\u001b[0;32m-> 1543\u001b[0;31m         loaded = _load_from_checkpoint(\n\u001b[0m\u001b[1;32m   1544\u001b[0m             \u001b[0mcls\u001b[0m\u001b[0;34m,\u001b[0m\u001b[0;34m\u001b[0m\u001b[0;34m\u001b[0m\u001b[0m\n\u001b[1;32m   1545\u001b[0m             \u001b[0mcheckpoint_path\u001b[0m\u001b[0;34m,\u001b[0m\u001b[0;34m\u001b[0m\u001b[0;34m\u001b[0m\u001b[0m\n",
            "\u001b[0;32m/usr/local/lib/python3.11/site-packages/pytorch_lightning/core/saving.py\u001b[0m in \u001b[0;36m_load_from_checkpoint\u001b[0;34m(cls, checkpoint_path, map_location, hparams_file, strict, **kwargs)\u001b[0m\n\u001b[1;32m     89\u001b[0m         \u001b[0;32mreturn\u001b[0m \u001b[0m_load_state\u001b[0m\u001b[0;34m(\u001b[0m\u001b[0mcls\u001b[0m\u001b[0;34m,\u001b[0m \u001b[0mcheckpoint\u001b[0m\u001b[0;34m,\u001b[0m \u001b[0;34m**\u001b[0m\u001b[0mkwargs\u001b[0m\u001b[0;34m)\u001b[0m\u001b[0;34m\u001b[0m\u001b[0;34m\u001b[0m\u001b[0m\n\u001b[1;32m     90\u001b[0m     \u001b[0;32mif\u001b[0m \u001b[0missubclass\u001b[0m\u001b[0;34m(\u001b[0m\u001b[0mcls\u001b[0m\u001b[0;34m,\u001b[0m \u001b[0mpl\u001b[0m\u001b[0;34m.\u001b[0m\u001b[0mLightningModule\u001b[0m\u001b[0;34m)\u001b[0m\u001b[0;34m:\u001b[0m\u001b[0;34m\u001b[0m\u001b[0;34m\u001b[0m\u001b[0m\n\u001b[0;32m---> 91\u001b[0;31m         \u001b[0mmodel\u001b[0m \u001b[0;34m=\u001b[0m \u001b[0m_load_state\u001b[0m\u001b[0;34m(\u001b[0m\u001b[0mcls\u001b[0m\u001b[0;34m,\u001b[0m \u001b[0mcheckpoint\u001b[0m\u001b[0;34m,\u001b[0m \u001b[0mstrict\u001b[0m\u001b[0;34m=\u001b[0m\u001b[0mstrict\u001b[0m\u001b[0;34m,\u001b[0m \u001b[0;34m**\u001b[0m\u001b[0mkwargs\u001b[0m\u001b[0;34m)\u001b[0m\u001b[0;34m\u001b[0m\u001b[0;34m\u001b[0m\u001b[0m\n\u001b[0m\u001b[1;32m     92\u001b[0m         \u001b[0mstate_dict\u001b[0m \u001b[0;34m=\u001b[0m \u001b[0mcheckpoint\u001b[0m\u001b[0;34m[\u001b[0m\u001b[0;34m\"state_dict\"\u001b[0m\u001b[0;34m]\u001b[0m\u001b[0;34m\u001b[0m\u001b[0;34m\u001b[0m\u001b[0m\n\u001b[1;32m     93\u001b[0m         \u001b[0;32mif\u001b[0m \u001b[0;32mnot\u001b[0m \u001b[0mstate_dict\u001b[0m\u001b[0;34m:\u001b[0m\u001b[0;34m\u001b[0m\u001b[0;34m\u001b[0m\u001b[0m\n",
            "\u001b[0;32m/usr/local/lib/python3.11/site-packages/pytorch_lightning/core/saving.py\u001b[0m in \u001b[0;36m_load_state\u001b[0;34m(cls, checkpoint, strict, **cls_kwargs_new)\u001b[0m\n\u001b[1;32m    142\u001b[0m         \u001b[0m_cls_kwargs\u001b[0m \u001b[0;34m=\u001b[0m \u001b[0;34m{\u001b[0m\u001b[0mk\u001b[0m\u001b[0;34m:\u001b[0m \u001b[0mv\u001b[0m \u001b[0;32mfor\u001b[0m \u001b[0mk\u001b[0m\u001b[0;34m,\u001b[0m \u001b[0mv\u001b[0m \u001b[0;32min\u001b[0m \u001b[0m_cls_kwargs\u001b[0m\u001b[0;34m.\u001b[0m\u001b[0mitems\u001b[0m\u001b[0;34m(\u001b[0m\u001b[0;34m)\u001b[0m \u001b[0;32mif\u001b[0m \u001b[0mk\u001b[0m \u001b[0;32min\u001b[0m \u001b[0mcls_init_args_name\u001b[0m\u001b[0;34m}\u001b[0m\u001b[0;34m\u001b[0m\u001b[0;34m\u001b[0m\u001b[0m\n\u001b[1;32m    143\u001b[0m \u001b[0;34m\u001b[0m\u001b[0m\n\u001b[0;32m--> 144\u001b[0;31m     \u001b[0mobj\u001b[0m \u001b[0;34m=\u001b[0m \u001b[0mcls\u001b[0m\u001b[0;34m(\u001b[0m\u001b[0;34m**\u001b[0m\u001b[0m_cls_kwargs\u001b[0m\u001b[0;34m)\u001b[0m\u001b[0;34m\u001b[0m\u001b[0;34m\u001b[0m\u001b[0m\n\u001b[0m\u001b[1;32m    145\u001b[0m \u001b[0;34m\u001b[0m\u001b[0m\n\u001b[1;32m    146\u001b[0m     \u001b[0;32mif\u001b[0m \u001b[0misinstance\u001b[0m\u001b[0;34m(\u001b[0m\u001b[0mobj\u001b[0m\u001b[0;34m,\u001b[0m \u001b[0mpl\u001b[0m\u001b[0;34m.\u001b[0m\u001b[0mLightningModule\u001b[0m\u001b[0;34m)\u001b[0m\u001b[0;34m:\u001b[0m\u001b[0;34m\u001b[0m\u001b[0;34m\u001b[0m\u001b[0m\n",
            "\u001b[0;32m/content/DiffSBDD/lightning_modules.py\u001b[0m in \u001b[0;36m__init__\u001b[0;34m(self, outdir, dataset, datadir, batch_size, lr, egnn_params, diffusion_params, num_workers, augment_noise, augment_rotation, clip_grad, eval_epochs, eval_params, visualize_sample_epoch, visualize_chain_epoch, auxiliary_loss, loss_params, mode, node_histogram, pocket_representation, virtual_nodes)\u001b[0m\n\u001b[1;32m    159\u001b[0m         )\n\u001b[1;32m    160\u001b[0m \u001b[0;34m\u001b[0m\u001b[0m\n\u001b[0;32m--> 161\u001b[0;31m         self.ddpm = ddpm_models[self.mode](\n\u001b[0m\u001b[1;32m    162\u001b[0m                 \u001b[0mdynamics\u001b[0m\u001b[0;34m=\u001b[0m\u001b[0mnet_dynamics\u001b[0m\u001b[0;34m,\u001b[0m\u001b[0;34m\u001b[0m\u001b[0;34m\u001b[0m\u001b[0m\n\u001b[1;32m    163\u001b[0m                 \u001b[0matom_nf\u001b[0m\u001b[0;34m=\u001b[0m\u001b[0mself\u001b[0m\u001b[0;34m.\u001b[0m\u001b[0matom_nf\u001b[0m\u001b[0;34m,\u001b[0m\u001b[0;34m\u001b[0m\u001b[0;34m\u001b[0m\u001b[0m\n",
            "\u001b[0;32m/content/DiffSBDD/equivariant_diffusion/conditional_model.py\u001b[0m in \u001b[0;36m__init__\u001b[0;34m(self, *args, **kwargs)\u001b[0m\n\u001b[1;32m     15\u001b[0m     \"\"\"\n\u001b[1;32m     16\u001b[0m     \u001b[0;32mdef\u001b[0m \u001b[0m__init__\u001b[0m\u001b[0;34m(\u001b[0m\u001b[0mself\u001b[0m\u001b[0;34m,\u001b[0m \u001b[0;34m*\u001b[0m\u001b[0margs\u001b[0m\u001b[0;34m,\u001b[0m \u001b[0;34m**\u001b[0m\u001b[0mkwargs\u001b[0m\u001b[0;34m)\u001b[0m\u001b[0;34m:\u001b[0m\u001b[0;34m\u001b[0m\u001b[0;34m\u001b[0m\u001b[0m\n\u001b[0;32m---> 17\u001b[0;31m         \u001b[0msuper\u001b[0m\u001b[0;34m(\u001b[0m\u001b[0;34m)\u001b[0m\u001b[0;34m.\u001b[0m\u001b[0m__init__\u001b[0m\u001b[0;34m(\u001b[0m\u001b[0;34m*\u001b[0m\u001b[0margs\u001b[0m\u001b[0;34m,\u001b[0m \u001b[0;34m**\u001b[0m\u001b[0mkwargs\u001b[0m\u001b[0;34m)\u001b[0m\u001b[0;34m\u001b[0m\u001b[0;34m\u001b[0m\u001b[0m\n\u001b[0m\u001b[1;32m     18\u001b[0m         \u001b[0;32massert\u001b[0m \u001b[0;32mnot\u001b[0m \u001b[0mself\u001b[0m\u001b[0;34m.\u001b[0m\u001b[0mdynamics\u001b[0m\u001b[0;34m.\u001b[0m\u001b[0mupdate_pocket_coords\u001b[0m\u001b[0;34m\u001b[0m\u001b[0;34m\u001b[0m\u001b[0m\n\u001b[1;32m     19\u001b[0m \u001b[0;34m\u001b[0m\u001b[0m\n",
            "\u001b[0;32m/content/DiffSBDD/equivariant_diffusion/en_diffusion.py\u001b[0m in \u001b[0;36m__init__\u001b[0;34m(self, dynamics, atom_nf, residue_nf, n_dims, size_histogram, timesteps, parametrization, noise_schedule, noise_precision, loss_type, norm_values, norm_biases, virtual_node_idx)\u001b[0m\n\u001b[1;32m     38\u001b[0m             \u001b[0mself\u001b[0m\u001b[0;34m.\u001b[0m\u001b[0mgamma\u001b[0m \u001b[0;34m=\u001b[0m \u001b[0mGammaNetwork\u001b[0m\u001b[0;34m(\u001b[0m\u001b[0;34m)\u001b[0m\u001b[0;34m\u001b[0m\u001b[0;34m\u001b[0m\u001b[0m\n\u001b[1;32m     39\u001b[0m         \u001b[0;32melse\u001b[0m\u001b[0;34m:\u001b[0m\u001b[0;34m\u001b[0m\u001b[0;34m\u001b[0m\u001b[0m\n\u001b[0;32m---> 40\u001b[0;31m             self.gamma = PredefinedNoiseSchedule(noise_schedule,\n\u001b[0m\u001b[1;32m     41\u001b[0m                                                  \u001b[0mtimesteps\u001b[0m\u001b[0;34m=\u001b[0m\u001b[0mtimesteps\u001b[0m\u001b[0;34m,\u001b[0m\u001b[0;34m\u001b[0m\u001b[0;34m\u001b[0m\u001b[0m\n\u001b[1;32m     42\u001b[0m                                                  precision=noise_precision)\n",
            "\u001b[0;32m/content/DiffSBDD/equivariant_diffusion/en_diffusion.py\u001b[0m in \u001b[0;36m__init__\u001b[0;34m(self, noise_schedule, timesteps, precision)\u001b[0m\n\u001b[1;32m   1183\u001b[0m \u001b[0;34m\u001b[0m\u001b[0m\n\u001b[1;32m   1184\u001b[0m         self.gamma = torch.nn.Parameter(\n\u001b[0;32m-> 1185\u001b[0;31m             \u001b[0mtorch\u001b[0m\u001b[0;34m.\u001b[0m\u001b[0mfrom_numpy\u001b[0m\u001b[0;34m(\u001b[0m\u001b[0;34m-\u001b[0m\u001b[0mlog_alphas2_to_sigmas2\u001b[0m\u001b[0;34m)\u001b[0m\u001b[0;34m.\u001b[0m\u001b[0mfloat\u001b[0m\u001b[0;34m(\u001b[0m\u001b[0;34m)\u001b[0m\u001b[0;34m,\u001b[0m\u001b[0;34m\u001b[0m\u001b[0;34m\u001b[0m\u001b[0m\n\u001b[0m\u001b[1;32m   1186\u001b[0m             requires_grad=False)\n\u001b[1;32m   1187\u001b[0m \u001b[0;34m\u001b[0m\u001b[0m\n",
            "\u001b[0;31mRuntimeError\u001b[0m: Numpy is not available"
          ]
        }
      ]
    },
    {
      "cell_type": "code",
      "source": [
        "#@title Show generated molecules\n",
        "\n",
        "import sys\n",
        "sys.path.append(\"/usr/local/lib/python3.9/site-packages\")\n",
        "import py3Dmol\n",
        "\n",
        "view = py3Dmol.view(js='https://3dmol.org/build/3Dmol.js',)\n",
        "view.addModel(open(pdbfile, 'r').read(), 'pdb')\n",
        "view.setStyle({'model': -1}, {'cartoon': {'color': 'lime'}})\n",
        "# view.addSurface(py3Dmol.VDW, {'opacity': 0.4, 'color': 'lime'})\n",
        "view.addModelsAsFrames(open(Path(output_dir, f\"{pdbfile.stem}_mol.sdf\"), 'r').read())\n",
        "view.setStyle({'model': -1}, {'stick': {}})\n",
        "view.zoomTo({'model': -1})\n",
        "view.zoom(0.5)\n",
        "if target == \"example (3rfm)\":\n",
        "  view.rotate(90, 'y')\n",
        "view.animate({'loop': \"forward\", 'interval': 1000})\n",
        "view.show()"
      ],
      "metadata": {
        "cellView": "form",
        "id": "lVyysoc0Rp_-"
      },
      "execution_count": null,
      "outputs": []
    },
    {
      "cell_type": "code",
      "source": [
        "#@title Download .sdf file\n",
        "files.download(Path(output_dir, f\"{pdbfile.stem}_mol.sdf\"))"
      ],
      "metadata": {
        "cellView": "form",
        "id": "3lQUv8rmQRd_"
      },
      "execution_count": null,
      "outputs": []
    }
  ]
}